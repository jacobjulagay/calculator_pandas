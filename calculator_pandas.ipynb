{
 "cells": [
  {
   "cell_type": "code",
   "execution_count": 2,
   "id": "engaged-novelty",
   "metadata": {},
   "outputs": [],
   "source": [
    "import numpy as np"
   ]
  },
  {
   "cell_type": "markdown",
   "id": "young-craft",
   "metadata": {},
   "source": [
    "#### Create a function named `calculate()` in `mean_var_std.py` that uses Numpy to output the \n",
    "#### Mean, Variance, Standard deviation, Max, Min, and Sum of the rows & columns, and elements in a 3 x 3 matrix. \n",
    "\n"
   ]
  },
  {
   "cell_type": "code",
   "execution_count": 3,
   "id": "brazilian-stream",
   "metadata": {},
   "outputs": [
    {
     "data": {
      "text/plain": [
       "{'mean': [[3.0, 4.0, 5.0], [1.0, 4.0, 7.0], 4.0],\n",
       " 'variance': [[6.0, 6.0, 6.0],\n",
       "  [0.6666666666666666, 0.6666666666666666, 0.6666666666666666],\n",
       "  6.666666666666667],\n",
       " 'standard deviation': [[2.449489742783178,\n",
       "   2.449489742783178,\n",
       "   2.449489742783178],\n",
       "  [0.816496580927726, 0.816496580927726, 0.816496580927726],\n",
       "  2.581988897471611],\n",
       " 'max': [[6, 7, 8], [2, 5, 8], 8],\n",
       " 'min': [[0, 1, 2], [0, 3, 6], 0],\n",
       " 'sum': [[9, 12, 15], [3, 12, 21], 36]}"
      ]
     },
     "execution_count": 3,
     "metadata": {},
     "output_type": "execute_result"
    }
   ],
   "source": [
    "# Initialize list w/ 9 numbers\n",
    "nums = [0,1,2,3,4,5,6,7,8]\n",
    "\n",
    "def calculate(nums):\n",
    "    if len(nums) <9:\n",
    "        raise ValueError(\"List must contain nine numbers.\")\n",
    "    else:\n",
    "        matrix =np.array(nums).reshape(3,3)\n",
    "        \n",
    "    # Mean\n",
    "    mean_matrix_col = np.mean(matrix, axis = 0).tolist()\n",
    "    mean_matrix_row = np.mean(matrix, axis = 1).tolist()\n",
    "    mean_matrix_flat = np.mean(matrix)\n",
    "\n",
    "    # Variance \n",
    "    var_matrix_col = np.var(matrix, axis = 0).tolist()\n",
    "    var_matrix_row = np.var(matrix, axis = 1).tolist()\n",
    "    var_matrix_flat = np.var(matrix)\n",
    "\n",
    "    # Standard Deviation\n",
    "    std_matrix_col = np.std(matrix, axis = 0).tolist()\n",
    "    std_matrix_row = np.std(matrix, axis = 1).tolist()\n",
    "    std_matrix_flat = np.std(matrix)\n",
    "\n",
    "    # Max\n",
    "    max_matrix_col = np.max(matrix, axis = 0).tolist()\n",
    "    max_matrix_row = np.max(matrix, axis = 1).tolist()\n",
    "    max_matrix_flat = np.max(matrix)\n",
    "\n",
    "    # Min\n",
    "    min_matrix_col = np.min(matrix, axis = 0).tolist()\n",
    "    min_matrix_row = np.min(matrix, axis = 1).tolist()\n",
    "    min_matrix_flat = np.min(matrix)\n",
    "\n",
    "    # Sum\n",
    "    sum_matrix_col = np.sum(matrix, axis = 0).tolist()\n",
    "    sum_matrix_row = np.sum(matrix, axis = 1).tolist()\n",
    "    sum_matrix_flat = np.sum(matrix)\n",
    "    \n",
    "    # Initialize dictionary\n",
    "    results = {\n",
    "        'mean': [mean_matrix_col,mean_matrix_row,mean_matrix_flat],\n",
    "        'variance': [var_matrix_col,var_matrix_row,var_matrix_flat],\n",
    "        'standard deviation':[std_matrix_col,std_matrix_row,std_matrix_flat],\n",
    "        'max':[max_matrix_col,max_matrix_row,max_matrix_flat],\n",
    "        'min':[min_matrix_col,min_matrix_row,min_matrix_flat],\n",
    "        'sum':[sum_matrix_col,sum_matrix_row,sum_matrix_flat],\n",
    "    }\n",
    "    return results;\n",
    "    \n",
    "calculate(nums)\n",
    "    "
   ]
  },
  {
   "cell_type": "code",
   "execution_count": null,
   "id": "hundred-wayne",
   "metadata": {},
   "outputs": [],
   "source": []
  }
 ],
 "metadata": {
  "kernelspec": {
   "display_name": "Python 3",
   "language": "python",
   "name": "python3"
  },
  "language_info": {
   "codemirror_mode": {
    "name": "ipython",
    "version": 3
   },
   "file_extension": ".py",
   "mimetype": "text/x-python",
   "name": "python",
   "nbconvert_exporter": "python",
   "pygments_lexer": "ipython3",
   "version": "3.9.1"
  }
 },
 "nbformat": 4,
 "nbformat_minor": 5
}
